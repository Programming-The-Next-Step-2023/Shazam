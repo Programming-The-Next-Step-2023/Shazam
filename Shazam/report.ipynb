{
 "cells": [
  {
   "cell_type": "markdown",
   "id": "6843104e",
   "metadata": {},
   "source": [
    "# Report outline"
   ]
  },
  {
   "cell_type": "markdown",
   "id": "22a5f0e0",
   "metadata": {},
   "source": [
    "## Introduction\n",
    "write about my shazam package and what it is supposed to do\n",
    "\n",
    "include\n",
    "- Build proof of concept that with short time fourier transformation I am able to predict song\n",
    "- Be able to recognise tine turner songs"
   ]
  },
  {
   "cell_type": "markdown",
   "id": "924c91fa",
   "metadata": {},
   "source": [
    "## Installation\n",
    "describe how people can install my package / use GUI"
   ]
  }
 ],
 "metadata": {
  "kernelspec": {
   "display_name": "Python 3 (ipykernel)",
   "language": "python",
   "name": "python3"
  },
  "language_info": {
   "codemirror_mode": {
    "name": "ipython",
    "version": 3
   },
   "file_extension": ".py",
   "mimetype": "text/x-python",
   "name": "python",
   "nbconvert_exporter": "python",
   "pygments_lexer": "ipython3",
   "version": "3.9.7"
  }
 },
 "nbformat": 4,
 "nbformat_minor": 5
}
