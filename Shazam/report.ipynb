{
 "cells": [
  {
   "cell_type": "markdown",
   "id": "714a345e",
   "metadata": {},
   "source": [
    "# Report outline"
   ]
  },
  {
   "cell_type": "markdown",
   "id": "26b8db5e",
   "metadata": {},
   "source": [
    "## Introduction\n",
    "write about my shazam package and what it is supposed to do\n",
    "\n",
    "include\n",
    "- Build proof of concept that with short time fourier transformation I am able to predict song\n",
    "- Be able to recognise tine turner songs"
   ]
  },
  {
   "cell_type": "markdown",
   "id": "f5d81a47",
   "metadata": {},
   "source": [
    "## Installation\n",
    "describe how people can install my package / GUI (not sure whether I will manage)"
   ]
  },
  {
   "cell_type": "markdown",
   "id": "b28815c9",
   "metadata": {},
   "source": [
    "## Example\n",
    "provide example of one snippet input"
   ]
  },
  {
   "cell_type": "markdown",
   "id": "a41da5ba",
   "metadata": {},
   "source": [
    "### Function to convert input mp3 to .wav files"
   ]
  },
  {
   "cell_type": "code",
   "execution_count": 3,
   "id": "05cf31ae",
   "metadata": {},
   "outputs": [],
   "source": [
    "import os\n",
    "from pydub import AudioSegment\n",
    "\n",
    "# directory where mp3 files are found\n",
    "my_input_directory = 'C:/Users/mirth/Documents/GitHub/Shazam/Shazam/input'\n",
    "# directory of stored .wav files\n",
    "my_output_directory = 'C:/Users/mirth/Documents/GitHub/Shazam/Shazam/output'\n",
    "\n",
    "\n",
    "def converter(input_directory, output_directory):\n",
    "    \"\"\"This function takes the input directory of the folder that contains mp3 audio files. It converts the .mp3 files \n",
    "    into .wav files. These .wav files are stored in an output directory.\n",
    "\n",
    "        Parameters:\n",
    "        input_directory(str): the input directory of the folder that contains the audio files\n",
    "        output_directory(str): the output directory of the folder where the converted audio files should be stored\n",
    "        \n",
    "        Example: \n",
    "        There is a local folder that contains several .mp3 files, defined as input_directory\n",
    "        There is a local folder where the .wav files should be stored, defined as output_directory\n",
    "        To convert my .mp3 files to .wav files, the convert function can be used\n",
    "\n",
    "        output_directory = 'C:/Users/mirth/Documents/GitHub/Shazam/Shazam/output'\n",
    "        input_directory = 'C:/Users/mirth/Documents/GitHub/Shazam/Shazam/input'\n",
    "        converter(input_directory, output_directory)\n",
    "       \"\"\"\n",
    "\n",
    "    # get list of all audio mp3 files in input folder\n",
    "    audio_list = os.listdir(input_directory)\n",
    "    for song in audio_list:\n",
    "        input_filename = os.path.join(input_directory, song)\n",
    "        output_filename = os.path.join(output_directory, song.replace('mp3', 'wav'))\n",
    "        sound = AudioSegment.from_mp3(input_filename)\n",
    "        sound = sound.set_channels(1) # from stereo to mono\n",
    "        sound.export(output_filename, format=\"wav\")\n",
    "\n",
    "\n",
    "converter(my_input_directory, my_output_directory)"
   ]
  },
  {
   "cell_type": "markdown",
   "id": "43053150",
   "metadata": {},
   "source": [
    "### Function ....\n",
    "I will describe each of my functions"
   ]
  },
  {
   "cell_type": "markdown",
   "id": "90396c1a",
   "metadata": {},
   "source": [
    "## GUI\n",
    "If I am able to create a GUI where users can upload a song snippet, I will post the description of the interface and how to use it"
   ]
  }
 ],
 "metadata": {
  "kernelspec": {
   "display_name": "Python 3 (ipykernel)",
   "language": "python",
   "name": "python3"
  },
  "language_info": {
   "codemirror_mode": {
    "name": "ipython",
    "version": 3
   },
   "file_extension": ".py",
   "mimetype": "text/x-python",
   "name": "python",
   "nbconvert_exporter": "python",
   "pygments_lexer": "ipython3",
   "version": "3.9.7"
  }
 },
 "nbformat": 4,
 "nbformat_minor": 5
}
